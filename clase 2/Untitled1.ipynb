{
  "nbformat": 4,
  "nbformat_minor": 0,
  "metadata": {
    "colab": {
      "name": "Untitled1.ipynb",
      "provenance": [],
      "authorship_tag": "ABX9TyMseBoDptc4fD/1Z8HuWP0h",
      "include_colab_link": true
    },
    "kernelspec": {
      "name": "python3",
      "display_name": "Python 3"
    },
    "language_info": {
      "name": "python"
    }
  },
  "cells": [
    {
      "cell_type": "markdown",
      "metadata": {
        "id": "view-in-github",
        "colab_type": "text"
      },
      "source": [
        "<a href=\"https://colab.research.google.com/github/erick1819/Prueba_phyton/blob/main/clase%202/Untitled1.ipynb\" target=\"_parent\"><img src=\"https://colab.research.google.com/assets/colab-badge.svg\" alt=\"Open In Colab\"/></a>"
      ]
    },
    {
      "cell_type": "code",
      "execution_count": null,
      "metadata": {
        "colab": {
          "base_uri": "https://localhost:8080/"
        },
        "id": "z4u_nH-ucbFA",
        "outputId": "ea48eb06-7469-4fe5-dd18-d9454639a8bf"
      },
      "outputs": [
        {
          "output_type": "execute_result",
          "data": {
            "text/plain": [
              "2"
            ]
          },
          "metadata": {},
          "execution_count": 2
        }
      ],
      "source": [
        "1+1"
      ]
    },
    {
      "cell_type": "code",
      "source": [
        "print(\"hola CTIC-Uni\")"
      ],
      "metadata": {
        "colab": {
          "base_uri": "https://localhost:8080/"
        },
        "id": "3TuqTZbbdSgS",
        "outputId": "9b45b1a0-28fc-4591-c0c6-6e04d22dd652"
      },
      "execution_count": null,
      "outputs": [
        {
          "output_type": "stream",
          "name": "stdout",
          "text": [
            "hola CTIC-Uni\n"
          ]
        }
      ]
    },
    {
      "cell_type": "code",
      "source": [
        "print(\"helou python interpreter\")"
      ],
      "metadata": {
        "id": "S-cnCmqTorTA",
        "outputId": "159867ab-d667-493e-e966-469b43a191b9",
        "colab": {
          "base_uri": "https://localhost:8080/"
        }
      },
      "execution_count": null,
      "outputs": [
        {
          "output_type": "stream",
          "name": "stdout",
          "text": [
            "helou python interpreter\n"
          ]
        }
      ]
    },
    {
      "cell_type": "code",
      "source": [
        "print(\"hola python word\")"
      ],
      "metadata": {
        "id": "a0qVj7Ijo7XX",
        "outputId": "0768ea68-1a9c-4cce-ca19-bf86228499df",
        "colab": {
          "base_uri": "https://localhost:8080/"
        }
      },
      "execution_count": null,
      "outputs": [
        {
          "output_type": "stream",
          "name": "stdout",
          "text": [
            "hola python word\n"
          ]
        }
      ]
    },
    {
      "cell_type": "code",
      "source": [
        "first_name=\"erick\"\n",
        "last_name=\"coronel\"\n",
        "full_name=f\"{first_name} {last_name}\"\n",
        "print(full_name)"
      ],
      "metadata": {
        "id": "07CWME07pCht",
        "outputId": "98ee7c80-6223-46ef-ef5b-a5d9a89b534e",
        "colab": {
          "base_uri": "https://localhost:8080/"
        }
      },
      "execution_count": null,
      "outputs": [
        {
          "output_type": "stream",
          "name": "stdout",
          "text": [
            "erick coronel\n"
          ]
        }
      ]
    },
    {
      "cell_type": "code",
      "source": [
        "first_name=str(input(\"ingrese el primer nombre: \"))\n",
        "last_name=str(input(\"ingrese su apellido: \"))\n",
        "full_name=f\"{first_name} {last_name}\"\n",
        "print(f\"bienvenido {full_name}!\")"
      ],
      "metadata": {
        "id": "T0i1WlmbuWCU",
        "outputId": "54e3694a-489e-41c4-e44b-26befb348eec",
        "colab": {
          "base_uri": "https://localhost:8080/"
        }
      },
      "execution_count": null,
      "outputs": [
        {
          "output_type": "stream",
          "name": "stdout",
          "text": [
            "ingrese el primer nombre: erick\n",
            "ingrese su apellido: coronel\n",
            "bienvenido erick coronel!\n"
          ]
        }
      ]
    },
    {
      "cell_type": "code",
      "source": [
        "print(\"\\thola\")"
      ],
      "metadata": {
        "id": "pJ1zr5RtwuQU",
        "outputId": "31c83efb-1f59-4db5-ca67-a2e694a8d7d6",
        "colab": {
          "base_uri": "https://localhost:8080/"
        }
      },
      "execution_count": null,
      "outputs": [
        {
          "output_type": "stream",
          "name": "stdout",
          "text": [
            "\thola\n"
          ]
        }
      ]
    },
    {
      "cell_type": "code",
      "source": [
        "0.1+0.1\n"
      ],
      "metadata": {
        "id": "GOBw8duI35zx",
        "outputId": "afb71132-5841-4610-9874-c86fa27f180d",
        "colab": {
          "base_uri": "https://localhost:8080/"
        }
      },
      "execution_count": null,
      "outputs": [
        {
          "output_type": "execute_result",
          "data": {
            "text/plain": [
              "0.2"
            ]
          },
          "metadata": {},
          "execution_count": 9
        }
      ]
    },
    {
      "cell_type": "code",
      "source": [
        "0.2+0.1\n"
      ],
      "metadata": {
        "id": "3PBT2NtJ5fdB",
        "outputId": "fbaa39c2-c5b2-4e1a-f05a-b3c04aa169d9",
        "colab": {
          "base_uri": "https://localhost:8080/"
        }
      },
      "execution_count": null,
      "outputs": [
        {
          "output_type": "execute_result",
          "data": {
            "text/plain": [
              "0.30000000000000004"
            ]
          },
          "metadata": {},
          "execution_count": 10
        }
      ]
    },
    {
      "cell_type": "code",
      "source": [
        "universe_age=14_000_000_000\n",
        "print(universe_age)"
      ],
      "metadata": {
        "id": "KsYECQ826lJ5",
        "outputId": "bc0f8ed9-1297-429d-c7de-674b47d6a405",
        "colab": {
          "base_uri": "https://localhost:8080/"
        }
      },
      "execution_count": null,
      "outputs": [
        {
          "output_type": "stream",
          "name": "stdout",
          "text": [
            "14000000000\n"
          ]
        }
      ]
    },
    {
      "cell_type": "code",
      "source": [
        "a=5\n",
        "print(f\"el numero es {a} !\")\n"
      ],
      "metadata": {
        "id": "fk1Q3Uhj8FoY",
        "outputId": "920af277-60e6-42e1-c539-0f34ace3f7a8",
        "colab": {
          "base_uri": "https://localhost:8080/"
        }
      },
      "execution_count": null,
      "outputs": [
        {
          "output_type": "stream",
          "name": "stdout",
          "text": [
            "el numero es 5 !\n"
          ]
        }
      ]
    },
    {
      "cell_type": "code",
      "source": [
        "a= [\"erick\", \"manuel\", \"coronel\"]\n",
        "a[2]"
      ],
      "metadata": {
        "id": "_9v3SKcvb3md",
        "outputId": "56902b93-a591-418e-9ca3-0247ffee3fbe",
        "colab": {
          "base_uri": "https://localhost:8080/",
          "height": 36
        }
      },
      "execution_count": 3,
      "outputs": [
        {
          "output_type": "execute_result",
          "data": {
            "text/plain": [
              "'coronel'"
            ],
            "application/vnd.google.colaboratory.intrinsic+json": {
              "type": "string"
            }
          },
          "metadata": {},
          "execution_count": 3
        }
      ]
    },
    {
      "cell_type": "code",
      "source": [
        "car=\"Audi\"\n",
        "car.lower()==\"audi\""
      ],
      "metadata": {
        "id": "Jle0MXbyp7_U",
        "outputId": "10c520d1-5fae-431a-b4b8-9d522354b65a",
        "colab": {
          "base_uri": "https://localhost:8080/"
        }
      },
      "execution_count": 10,
      "outputs": [
        {
          "output_type": "execute_result",
          "data": {
            "text/plain": [
              "True"
            ]
          },
          "metadata": {},
          "execution_count": 10
        }
      ]
    },
    {
      "cell_type": "code",
      "source": [
        "car.upper()"
      ],
      "metadata": {
        "id": "7cgzLg4XqxdM",
        "outputId": "ea596fc2-47e7-418d-b8da-5e5871993767",
        "colab": {
          "base_uri": "https://localhost:8080/",
          "height": 36
        }
      },
      "execution_count": 11,
      "outputs": [
        {
          "output_type": "execute_result",
          "data": {
            "text/plain": [
              "'AUDI'"
            ],
            "application/vnd.google.colaboratory.intrinsic+json": {
              "type": "string"
            }
          },
          "metadata": {},
          "execution_count": 11
        }
      ]
    },
    {
      "cell_type": "code",
      "source": [
        "1!=2"
      ],
      "metadata": {
        "id": "t6pGWTe8ry20",
        "outputId": "80ff63f4-3ae9-422f-e2e7-e03f3d9eb2ea",
        "colab": {
          "base_uri": "https://localhost:8080/"
        }
      },
      "execution_count": 12,
      "outputs": [
        {
          "output_type": "execute_result",
          "data": {
            "text/plain": [
              "True"
            ]
          },
          "metadata": {},
          "execution_count": 12
        }
      ]
    },
    {
      "cell_type": "code",
      "source": [
        "requested_topping = \"champiñones\"\n",
        "if requested_topping != \"Amchoas\" :\n",
        "  print(\"sosten las AMchoas\")"
      ],
      "metadata": {
        "id": "-e0bA0iys02T",
        "outputId": "6cf3e54c-9c19-4b6c-a232-c969b812e7dd",
        "colab": {
          "base_uri": "https://localhost:8080/"
        }
      },
      "execution_count": 16,
      "outputs": [
        {
          "output_type": "stream",
          "name": "stdout",
          "text": [
            "sosten las AMchoas\n"
          ]
        }
      ]
    },
    {
      "cell_type": "code",
      "source": [
        "answer=17\n",
        "if answer != 42:\n",
        "  print(\"respuesta incorrecta\")"
      ],
      "metadata": {
        "id": "qiNoKOPlxJ_T",
        "outputId": "37674cd8-6d1e-4735-f21d-b0dbadec03ad",
        "colab": {
          "base_uri": "https://localhost:8080/"
        }
      },
      "execution_count": 18,
      "outputs": [
        {
          "output_type": "stream",
          "name": "stdout",
          "text": [
            "respuesta incorrecta\n"
          ]
        }
      ]
    },
    {
      "cell_type": "code",
      "source": [
        "age=18\n",
        "age<21"
      ],
      "metadata": {
        "id": "4tnHv0OzxuKz",
        "outputId": "ad2cf1c6-e190-45e0-c266-6ee3b768d2bb",
        "colab": {
          "base_uri": "https://localhost:8080/"
        }
      },
      "execution_count": 19,
      "outputs": [
        {
          "output_type": "execute_result",
          "data": {
            "text/plain": [
              "True"
            ]
          },
          "metadata": {},
          "execution_count": 19
        }
      ]
    },
    {
      "cell_type": "code",
      "source": [
        "age>22"
      ],
      "metadata": {
        "id": "ylxvLURzyHcS",
        "outputId": "fa5b91ef-dc5e-4327-a585-55383ec572bd",
        "colab": {
          "base_uri": "https://localhost:8080/"
        }
      },
      "execution_count": 20,
      "outputs": [
        {
          "output_type": "execute_result",
          "data": {
            "text/plain": [
              "False"
            ]
          },
          "metadata": {},
          "execution_count": 20
        }
      ]
    },
    {
      "cell_type": "code",
      "source": [
        "age<=21"
      ],
      "metadata": {
        "id": "9jbfK5JvyJ9S",
        "outputId": "f5a7e17d-1784-4063-b8bb-b2e66edf4c66",
        "colab": {
          "base_uri": "https://localhost:8080/"
        }
      },
      "execution_count": 21,
      "outputs": [
        {
          "output_type": "execute_result",
          "data": {
            "text/plain": [
              "True"
            ]
          },
          "metadata": {},
          "execution_count": 21
        }
      ]
    },
    {
      "cell_type": "code",
      "source": [
        "answer=int(input(\"ingrese su respuesta: \"))\n",
        "if answer != 42:\n",
        "  print(\"respuesta incorrecta\")"
      ],
      "metadata": {
        "id": "-St6qq5e0c_K",
        "outputId": "ee6c7a8a-846c-49fc-8bc1-33d9dc118ab7",
        "colab": {
          "base_uri": "https://localhost:8080/"
        }
      },
      "execution_count": 23,
      "outputs": [
        {
          "output_type": "stream",
          "name": "stdout",
          "text": [
            "ingrese su respuesta: 19\n",
            "respuesta incorrecta\n"
          ]
        }
      ]
    }
  ]
}