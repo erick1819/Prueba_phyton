{
  "nbformat": 4,
  "nbformat_minor": 0,
  "metadata": {
    "colab": {
      "name": "Untitled1.ipynb",
      "provenance": [],
      "authorship_tag": "ABX9TyNf32bKE6LojVpY5dk7t8lF",
      "include_colab_link": true
    },
    "kernelspec": {
      "name": "python3",
      "display_name": "Python 3"
    },
    "language_info": {
      "name": "python"
    }
  },
  "cells": [
    {
      "cell_type": "markdown",
      "metadata": {
        "id": "view-in-github",
        "colab_type": "text"
      },
      "source": [
        "<a href=\"https://colab.research.google.com/github/erick1819/Prueba_phyton/blob/main/clase2/test.ipynb\" target=\"_parent\"><img src=\"https://colab.research.google.com/assets/colab-badge.svg\" alt=\"Open In Colab\"/></a>"
      ]
    },
    {
      "cell_type": "code",
      "execution_count": null,
      "metadata": {
        "id": "z4u_nH-ucbFA"
      },
      "outputs": [],
      "source": [
        "1+1"
      ]
    },
    {
      "cell_type": "code",
      "source": [
        "print(\"hola CTIC-Uni\")"
      ],
      "metadata": {
        "id": "3TuqTZbbdSgS"
      },
      "execution_count": null,
      "outputs": []
    }
  ]
}