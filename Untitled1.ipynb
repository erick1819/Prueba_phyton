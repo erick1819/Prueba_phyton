{
  "nbformat": 4,
  "nbformat_minor": 0,
  "metadata": {
    "colab": {
      "name": "Untitled1.ipynb",
      "provenance": [],
      "authorship_tag": "ABX9TyMUBZ+2ftZ3Z3l5mHx/7/xz",
      "include_colab_link": true
    },
    "kernelspec": {
      "name": "python3",
      "display_name": "Python 3"
    },
    "language_info": {
      "name": "python"
    }
  },
  "cells": [
    {
      "cell_type": "markdown",
      "metadata": {
        "id": "view-in-github",
        "colab_type": "text"
      },
      "source": [
        "<a href=\"https://colab.research.google.com/github/erick1819/Prueba_phyton/blob/main/Untitled1.ipynb\" target=\"_parent\"><img src=\"https://colab.research.google.com/assets/colab-badge.svg\" alt=\"Open In Colab\"/></a>"
      ]
    },
    {
      "cell_type": "code",
      "execution_count": null,
      "metadata": {
        "colab": {
          "base_uri": "https://localhost:8080/"
        },
        "id": "z4u_nH-ucbFA",
        "outputId": "ea48eb06-7469-4fe5-dd18-d9454639a8bf"
      },
      "outputs": [
        {
          "output_type": "execute_result",
          "data": {
            "text/plain": [
              "2"
            ]
          },
          "metadata": {},
          "execution_count": 2
        }
      ],
      "source": [
        "1+1"
      ]
    },
    {
      "cell_type": "code",
      "source": [
        "print(\"hola CTIC-Uni\")"
      ],
      "metadata": {
        "colab": {
          "base_uri": "https://localhost:8080/"
        },
        "id": "3TuqTZbbdSgS",
        "outputId": "9b45b1a0-28fc-4591-c0c6-6e04d22dd652"
      },
      "execution_count": null,
      "outputs": [
        {
          "output_type": "stream",
          "name": "stdout",
          "text": [
            "hola CTIC-Uni\n"
          ]
        }
      ]
    },
    {
      "cell_type": "code",
      "source": [
        "print(\"helou python interpreter\")"
      ],
      "metadata": {
        "id": "S-cnCmqTorTA",
        "outputId": "159867ab-d667-493e-e966-469b43a191b9",
        "colab": {
          "base_uri": "https://localhost:8080/"
        }
      },
      "execution_count": 1,
      "outputs": [
        {
          "output_type": "stream",
          "name": "stdout",
          "text": [
            "helou python interpreter\n"
          ]
        }
      ]
    },
    {
      "cell_type": "code",
      "source": [
        "print(\"hola python word\")"
      ],
      "metadata": {
        "id": "a0qVj7Ijo7XX",
        "outputId": "0768ea68-1a9c-4cce-ca19-bf86228499df",
        "colab": {
          "base_uri": "https://localhost:8080/"
        }
      },
      "execution_count": 2,
      "outputs": [
        {
          "output_type": "stream",
          "name": "stdout",
          "text": [
            "hola python word\n"
          ]
        }
      ]
    },
    {
      "cell_type": "code",
      "source": [
        "first_name=\"erick\"\n",
        "last_name=\"coronel\"\n",
        "full_name=f\"{first_name} {last_name}\"\n",
        "print(full_name)"
      ],
      "metadata": {
        "id": "07CWME07pCht",
        "outputId": "98ee7c80-6223-46ef-ef5b-a5d9a89b534e",
        "colab": {
          "base_uri": "https://localhost:8080/"
        }
      },
      "execution_count": 3,
      "outputs": [
        {
          "output_type": "stream",
          "name": "stdout",
          "text": [
            "erick coronel\n"
          ]
        }
      ]
    },
    {
      "cell_type": "code",
      "source": [
        "first_name=str(input(\"ingrese el primer nombre: \"))\n",
        "last_name=str(input(\"ingrese su apellido: \"))\n",
        "full_name=f\"{first_name} {last_name}\"\n",
        "print(f\"bienvenido {full_name}!\")"
      ],
      "metadata": {
        "id": "T0i1WlmbuWCU",
        "outputId": "54e3694a-489e-41c4-e44b-26befb348eec",
        "colab": {
          "base_uri": "https://localhost:8080/"
        }
      },
      "execution_count": 7,
      "outputs": [
        {
          "output_type": "stream",
          "name": "stdout",
          "text": [
            "ingrese el primer nombre: erick\n",
            "ingrese su apellido: coronel\n",
            "bienvenido erick coronel!\n"
          ]
        }
      ]
    },
    {
      "cell_type": "code",
      "source": [
        "print(\"\\thola\")"
      ],
      "metadata": {
        "id": "pJ1zr5RtwuQU",
        "outputId": "31c83efb-1f59-4db5-ca67-a2e694a8d7d6",
        "colab": {
          "base_uri": "https://localhost:8080/"
        }
      },
      "execution_count": 8,
      "outputs": [
        {
          "output_type": "stream",
          "name": "stdout",
          "text": [
            "\thola\n"
          ]
        }
      ]
    },
    {
      "cell_type": "code",
      "source": [
        "0.1+0.1\n"
      ],
      "metadata": {
        "id": "GOBw8duI35zx",
        "outputId": "afb71132-5841-4610-9874-c86fa27f180d",
        "colab": {
          "base_uri": "https://localhost:8080/"
        }
      },
      "execution_count": 9,
      "outputs": [
        {
          "output_type": "execute_result",
          "data": {
            "text/plain": [
              "0.2"
            ]
          },
          "metadata": {},
          "execution_count": 9
        }
      ]
    },
    {
      "cell_type": "code",
      "source": [
        "0.2+0.1\n"
      ],
      "metadata": {
        "id": "3PBT2NtJ5fdB",
        "outputId": "fbaa39c2-c5b2-4e1a-f05a-b3c04aa169d9",
        "colab": {
          "base_uri": "https://localhost:8080/"
        }
      },
      "execution_count": 10,
      "outputs": [
        {
          "output_type": "execute_result",
          "data": {
            "text/plain": [
              "0.30000000000000004"
            ]
          },
          "metadata": {},
          "execution_count": 10
        }
      ]
    },
    {
      "cell_type": "code",
      "source": [
        "universe_age=14_000_000_000\n",
        "print(universe_age)"
      ],
      "metadata": {
        "id": "KsYECQ826lJ5",
        "outputId": "bc0f8ed9-1297-429d-c7de-674b47d6a405",
        "colab": {
          "base_uri": "https://localhost:8080/"
        }
      },
      "execution_count": 11,
      "outputs": [
        {
          "output_type": "stream",
          "name": "stdout",
          "text": [
            "14000000000\n"
          ]
        }
      ]
    },
    {
      "cell_type": "code",
      "source": [
        "a=5\n",
        "print(f\"el numero es {a} !\")\n"
      ],
      "metadata": {
        "id": "fk1Q3Uhj8FoY",
        "outputId": "920af277-60e6-42e1-c539-0f34ace3f7a8",
        "colab": {
          "base_uri": "https://localhost:8080/"
        }
      },
      "execution_count": 13,
      "outputs": [
        {
          "output_type": "stream",
          "name": "stdout",
          "text": [
            "el numero es 5 !\n"
          ]
        }
      ]
    }
  ]
}